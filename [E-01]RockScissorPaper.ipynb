{
 "cells": [
  {
   "cell_type": "code",
   "execution_count": 23,
   "id": "60dff0b4",
   "metadata": {},
   "outputs": [],
   "source": [
    "from PIL import Image\n",
    "import glob\n",
    "import matplotlib.pyplot as plt\n",
    "import os"
   ]
  },
  {
   "cell_type": "markdown",
   "id": "353988da",
   "metadata": {},
   "source": [
    "# 데이터 불러오기 & Resize"
   ]
  },
  {
   "cell_type": "code",
   "execution_count": 24,
   "id": "3ef46503",
   "metadata": {},
   "outputs": [
    {
     "name": "stdout",
     "output_type": "stream",
     "text": [
      "2410  images to be resized.\n",
      "2410  images resized.\n",
      "가위 이미지 resize 완료!\n"
     ]
    }
   ],
   "source": [
    "def resize_images(img_path):\n",
    "    images=glob.glob(img_path + \"/*.jpg\")\n",
    "    print(len(images), \" images to be resized.\")\n",
    "    target_size=(28,28)\n",
    "    \n",
    "    for img in images:\n",
    "        old_img=Image.open(img)\n",
    "        new_img=old_img.resize(target_size,Image.ANTIALIAS)\n",
    "        new_img.save(img, \"JPEG\")\n",
    "    print(len(images), \" images resized.\")\n",
    "\n",
    "image_dir_path = os.getenv(\"HOME\") + \"/aiffel/rock_scissor_paper/scissor\"\n",
    "resize_images(image_dir_path)\n",
    "\n",
    "print(\"가위 이미지 resize 완료!\")"
   ]
  },
  {
   "cell_type": "code",
   "execution_count": 25,
   "id": "5c4e3e17",
   "metadata": {},
   "outputs": [
    {
     "name": "stdout",
     "output_type": "stream",
     "text": [
      "2601  images to be resized.\n",
      "2601  images resized.\n"
     ]
    }
   ],
   "source": [
    "image_dir_path = os.getenv(\"HOME\") + \"/aiffel/rock_scissor_paper/rock\"\n",
    "resize_images(image_dir_path)"
   ]
  },
  {
   "cell_type": "code",
   "execution_count": 27,
   "id": "b866f25f",
   "metadata": {},
   "outputs": [
    {
     "name": "stdout",
     "output_type": "stream",
     "text": [
      "1603  images to be resized.\n",
      "1603  images resized.\n"
     ]
    }
   ],
   "source": [
    "image_dir_path = os.getenv(\"HOME\") + \"/aiffel/rock_scissor_paper/paper\"\n",
    "resize_images(image_dir_path)"
   ]
  },
  {
   "cell_type": "code",
   "execution_count": 29,
   "id": "fe81c035",
   "metadata": {},
   "outputs": [
    {
     "name": "stdout",
     "output_type": "stream",
     "text": [
      "학습데이터(x_train)의 이미지 개수는 6614 입니다.\n",
      "x_train shape: (6614, 28, 28, 3)\n",
      "y_train shape: (6614,)\n"
     ]
    }
   ],
   "source": [
    "import numpy as np\n",
    "\n",
    "def load_data(img_path, number_of_data=6614): #갯수 맞추기\n",
    "    img_size=28 \n",
    "    color=3 #흑백=1,칼라=3\n",
    "    imgs=np.zeros(number_of_data*img_size*img_size*color,dtype=np.int32).reshape(number_of_data,img_size,img_size,color)\n",
    "    labels=np.zeros(number_of_data,dtype=np.int32)\n",
    "\n",
    "    idx=0\n",
    "    for file in glob.iglob(img_path+'/scissor/*.jpg'):\n",
    "        img = np.array(Image.open(file),dtype=np.int32)\n",
    "        imgs[idx,:,:,:]=img\n",
    "        labels[idx]=0\n",
    "        idx=idx+1\n",
    "\n",
    "    for file in glob.iglob(img_path+'/rock/*.jpg'):\n",
    "        img = np.array(Image.open(file),dtype=np.int32)\n",
    "        imgs[idx,:,:,:]=img\n",
    "        labels[idx]=1\n",
    "        idx=idx+1  \n",
    "    \n",
    "    for file in glob.iglob(img_path+'/paper/*.jpg'):\n",
    "        img = np.array(Image.open(file),dtype=np.int32)\n",
    "        imgs[idx,:,:,:]=img\n",
    "        labels[idx]=2\n",
    "        idx=idx+1\n",
    "        \n",
    "    print(\"학습데이터(x_train)의 이미지 개수는\", idx,\"입니다.\")\n",
    "    return imgs, labels\n",
    "\n",
    "image_dir_path = os.getenv(\"HOME\") + \"/aiffel/rock_scissor_paper\"\n",
    "(x_train, y_train)=load_data(image_dir_path)\n",
    "x_train_norm = x_train/255.0 \n",
    "\n",
    "print(\"x_train shape: {}\".format(x_train.shape))\n",
    "print(\"y_train shape: {}\".format(y_train.shape))"
   ]
  },
  {
   "cell_type": "code",
   "execution_count": 30,
   "id": "f9b412ce",
   "metadata": {},
   "outputs": [
    {
     "name": "stdout",
     "output_type": "stream",
     "text": [
      "라벨:  0\n"
     ]
    },
    {
     "data": {
      "image/png": "[encoded data removed]",
      "text/plain": [
       "<Figure size 432x288 with 1 Axes>"
      ]
     },
     "metadata": {
      "needs_background": "light"
     },
     "output_type": "display_data"
    }
   ],
   "source": [
    "plt.imshow(x_train[0])\n",
    "print('라벨: ', y_train[0])"
   ]
  },
  {
   "cell_type": "markdown",
   "id": "2b8371a1",
   "metadata": {},
   "source": [
    "# 딥러닝 네트워크 설계하기"
   ]
  },
  {
   "cell_type": "code",
   "execution_count": 31,
   "id": "1c32cc77",
   "metadata": {},
   "outputs": [
    {
     "name": "stdout",
     "output_type": "stream",
     "text": [
      "Model: \"sequential_3\"\n",
      "_________________________________________________________________\n",
      "Layer (type)                 Output Shape              Param #   \n",
      "=================================================================\n",
      "conv2d_6 (Conv2D)            (None, 26, 26, 128)       3584      \n",
      "_________________________________________________________________\n",
      "max_pooling2d_6 (MaxPooling2 (None, 13, 13, 128)       0         \n",
      "_________________________________________________________________\n",
      "conv2d_7 (Conv2D)            (None, 11, 11, 256)       295168    \n",
      "_________________________________________________________________\n",
      "max_pooling2d_7 (MaxPooling2 (None, 5, 5, 256)         0         \n",
      "_________________________________________________________________\n",
      "flatten_3 (Flatten)          (None, 6400)              0         \n",
      "_________________________________________________________________\n",
      "dense_6 (Dense)              (None, 512)               3277312   \n",
      "_________________________________________________________________\n",
      "dense_7 (Dense)              (None, 3)                 1539      \n",
      "=================================================================\n",
      "Total params: 3,577,603\n",
      "Trainable params: 3,577,603\n",
      "Non-trainable params: 0\n",
      "_________________________________________________________________\n",
      "Epoch 1/13\n",
      "207/207 [==============================] - 1s 5ms/step - loss: 3.8432 - accuracy: 0.5074\n",
      "Epoch 2/13\n",
      "207/207 [==============================] - 1s 4ms/step - loss: 0.7495 - accuracy: 0.6408\n",
      "Epoch 3/13\n",
      "207/207 [==============================] - 1s 4ms/step - loss: 0.5720 - accuracy: 0.7489\n",
      "Epoch 4/13\n",
      "207/207 [==============================] - 1s 4ms/step - loss: 0.4074 - accuracy: 0.8420\n",
      "Epoch 5/13\n",
      "207/207 [==============================] - 1s 4ms/step - loss: 0.2209 - accuracy: 0.9202\n",
      "Epoch 6/13\n",
      "207/207 [==============================] - 1s 4ms/step - loss: 0.1677 - accuracy: 0.9397\n",
      "Epoch 7/13\n",
      "207/207 [==============================] - 1s 4ms/step - loss: 0.0953 - accuracy: 0.9660\n",
      "Epoch 8/13\n",
      "207/207 [==============================] - 1s 4ms/step - loss: 0.0753 - accuracy: 0.9734\n",
      "Epoch 9/13\n",
      "207/207 [==============================] - 1s 4ms/step - loss: 0.0820 - accuracy: 0.9728\n",
      "Epoch 10/13\n",
      "207/207 [==============================] - 1s 4ms/step - loss: 0.0566 - accuracy: 0.9817\n",
      "Epoch 11/13\n",
      "207/207 [==============================] - 1s 4ms/step - loss: 0.1315 - accuracy: 0.9604\n",
      "Epoch 12/13\n",
      "207/207 [==============================] - 1s 4ms/step - loss: 0.0454 - accuracy: 0.9856\n",
      "Epoch 13/13\n",
      "207/207 [==============================] - 1s 4ms/step - loss: 0.0250 - accuracy: 0.9924\n",
      "Model: \"sequential_3\"\n",
      "_________________________________________________________________\n",
      "Layer (type)                 Output Shape              Param #   \n",
      "=================================================================\n",
      "conv2d_6 (Conv2D)            (None, 26, 26, 128)       3584      \n",
      "_________________________________________________________________\n",
      "max_pooling2d_6 (MaxPooling2 (None, 13, 13, 128)       0         \n",
      "_________________________________________________________________\n",
      "conv2d_7 (Conv2D)            (None, 11, 11, 256)       295168    \n",
      "_________________________________________________________________\n",
      "max_pooling2d_7 (MaxPooling2 (None, 5, 5, 256)         0         \n",
      "_________________________________________________________________\n",
      "flatten_3 (Flatten)          (None, 6400)              0         \n",
      "_________________________________________________________________\n",
      "dense_6 (Dense)              (None, 512)               3277312   \n",
      "_________________________________________________________________\n",
      "dense_7 (Dense)              (None, 3)                 1539      \n",
      "=================================================================\n",
      "Total params: 3,577,603\n",
      "Trainable params: 3,577,603\n",
      "Non-trainable params: 0\n",
      "_________________________________________________________________\n"
     ]
    }
   ],
   "source": [
    "import tensorflow as tf\n",
    "from tensorflow import keras\n",
    "import numpy as np\n",
    "\n",
    "model = keras.models.Sequential()\n",
    "\n",
    "model.add(keras.layers.Conv2D(128, (3,3), activation = 'relu', input_shape = (28,28,3)))\n",
    "model.add(keras.layers.MaxPool2D(2,2))\n",
    "model.add(keras.layers.Conv2D(256, (3,3), activation = 'relu'))\n",
    "model.add(keras.layers.MaxPool2D(2,2))\n",
    "model.add(keras.layers.Flatten())\n",
    "model.add(keras.layers.Dense(512, activation = 'relu'))\n",
    "model.add(keras.layers.Dense(3, activation = 'softmax'))\n",
    "model.summary()\n",
    "\n",
    "model.compile(optimizer = 'adam', loss = 'sparse_categorical_crossentropy', metrics = ['accuracy'])\n",
    "#model.fit(x_train, y_train, epochs=10)\n",
    "#model.fit(x_train, y_train, epochs=6)\n",
    "model.fit(x_train, y_train, epochs=13)\n",
    "model.summary()"
   ]
  },
  {
   "cell_type": "code",
   "execution_count": 32,
   "id": "c54dee04",
   "metadata": {},
   "outputs": [
    {
     "name": "stdout",
     "output_type": "stream",
     "text": [
      "Epoch 1/6\n",
      "207/207 [==============================] - 1s 5ms/step - loss: 0.0864 - accuracy: 0.9732\n",
      "Epoch 2/6\n",
      "207/207 [==============================] - 1s 4ms/step - loss: 0.0703 - accuracy: 0.9797\n",
      "Epoch 3/6\n",
      "207/207 [==============================] - 1s 4ms/step - loss: 0.0564 - accuracy: 0.9803\n",
      "Epoch 4/6\n",
      "207/207 [==============================] - 1s 4ms/step - loss: 0.0572 - accuracy: 0.9852\n",
      "Epoch 5/6\n",
      "207/207 [==============================] - 1s 4ms/step - loss: 0.0565 - accuracy: 0.9849\n",
      "Epoch 6/6\n",
      "207/207 [==============================] - 1s 4ms/step - loss: 0.0214 - accuracy: 0.9932\n"
     ]
    },
    {
     "data": {
      "text/plain": [
       "<keras.callbacks.History at 0x7f6dd28e9610>"
      ]
     },
     "execution_count": 32,
     "metadata": {},
     "output_type": "execute_result"
    }
   ],
   "source": [
    "model.compile(optimizer='adam',\n",
    "             loss='sparse_categorical_crossentropy',\n",
    "             metrics=['accuracy'])\n",
    "\n",
    "#model.fit(x_train, y_train, epochs=10)\n",
    "#model.fit(x_train, y_train, epochs=8)\n",
    "model.fit(x_train, y_train, epochs=6)"
   ]
  },
  {
   "cell_type": "markdown",
   "id": "11158dc2",
   "metadata": {},
   "source": [
    "# 테스트(검증)"
   ]
  },
  {
   "cell_type": "code",
   "execution_count": 33,
   "id": "faab900a",
   "metadata": {},
   "outputs": [
    {
     "name": "stdout",
     "output_type": "stream",
     "text": [
      "100  images to be resized.\n",
      "100  images resized.\n",
      "가위 이미지 resize 완료!\n"
     ]
    }
   ],
   "source": [
    "def resize_images(img_path):\n",
    "    images=glob.glob(img_path + \"/*.jpg\")\n",
    "    print(len(images), \" images to be resized.\")\n",
    "    target_size=(28,28)\n",
    "    \n",
    "    for img in images:\n",
    "        old_img=Image.open(img)\n",
    "        new_img=old_img.resize(target_size,Image.ANTIALIAS)\n",
    "        new_img.save(img, \"JPEG\")\n",
    "    print(len(images), \" images resized.\")\n",
    "\n",
    "image_dir_path = os.getenv(\"HOME\") + \"/aiffel/rock_scissor_paper/test/scissor/\"\n",
    "resize_images(image_dir_path)\n",
    "\n",
    "print(\"가위 이미지 resize 완료!\")"
   ]
  },
  {
   "cell_type": "code",
   "execution_count": 34,
   "id": "eeca7f2e",
   "metadata": {},
   "outputs": [
    {
     "name": "stdout",
     "output_type": "stream",
     "text": [
      "100  images to be resized.\n",
      "100  images resized.\n",
      "바위 이미지 resize 완료!\n"
     ]
    }
   ],
   "source": [
    "image_dir_path = os.getenv(\"HOME\") + \"/aiffel/rock_scissor_paper/test/rock\"\n",
    "resize_images(image_dir_path)\n",
    "print(\"바위 이미지 resize 완료!\")"
   ]
  },
  {
   "cell_type": "code",
   "execution_count": 35,
   "id": "3d66747b",
   "metadata": {},
   "outputs": [
    {
     "name": "stdout",
     "output_type": "stream",
     "text": [
      "100  images to be resized.\n",
      "100  images resized.\n",
      "보 이미지 resize 완료!\n"
     ]
    }
   ],
   "source": [
    "image_dir_path = os.getenv(\"HOME\") + \"/aiffel/rock_scissor_paper/test/paper\"\n",
    "resize_images(image_dir_path)\n",
    "print(\"보 이미지 resize 완료!\")"
   ]
  },
  {
   "cell_type": "code",
   "execution_count": 36,
   "id": "28c48dc7",
   "metadata": {},
   "outputs": [
    {
     "name": "stdout",
     "output_type": "stream",
     "text": [
      "학습데이터(x_train)의 이미지 개수는 300 입니다.\n",
      "x_test shape: (300, 28, 28, 3)\n",
      "y_test shape: (300,)\n"
     ]
    }
   ],
   "source": [
    "def load_data(img_path, number_of_data=300):\n",
    "    img_size=28\n",
    "    color=3\n",
    "    imgs=np.zeros(number_of_data*img_size*img_size*color,dtype=np.int32).reshape(number_of_data,img_size,img_size,color)\n",
    "    labels=np.zeros(number_of_data,dtype=np.int32)\n",
    "\n",
    "    idx=0\n",
    "    for file in glob.iglob(img_path+'/scissor/*.jpg'):\n",
    "        img = np.array(Image.open(file),dtype=np.int32)\n",
    "        imgs[idx,:,:,:]=img    # 데이터 영역에 이미지 행렬을 복사\n",
    "        labels[idx]=0   # 가위 \n",
    "        idx=idx+1\n",
    "\n",
    "    for file in glob.iglob(img_path+'/rock/*.jpg'):\n",
    "        img = np.array(Image.open(file),dtype=np.int32)\n",
    "        imgs[idx,:,:,:]=img   \n",
    "        labels[idx]=1   # 바위\n",
    "        idx=idx+1  \n",
    "    \n",
    "    for file in glob.iglob(img_path+'/paper/*.jpg'):\n",
    "        img = np.array(Image.open(file),dtype=np.int32)\n",
    "        imgs[idx,:,:,:]=img  \n",
    "        labels[idx]=2   # 보 \n",
    "        idx=idx+1\n",
    "        \n",
    "    print(\"학습데이터(x_train)의 이미지 개수는\", idx,\"입니다.\")\n",
    "    return imgs, labels\n",
    "\n",
    "image_dir_path = os.getenv(\"HOME\") + \"/aiffel/rock_scissor_paper/test\"\n",
    "(x_test, y_test)=load_data(image_dir_path)\n",
    "x_test_norm = x_test/255.0   # 입력은 0~1 사이의 값으로 정규화\n",
    "\n",
    "print(\"x_test shape: {}\".format(x_test.shape))\n",
    "print(\"y_test shape: {}\".format(y_test.shape))"
   ]
  },
  {
   "cell_type": "code",
   "execution_count": 37,
   "id": "78536158",
   "metadata": {},
   "outputs": [
    {
     "name": "stdout",
     "output_type": "stream",
     "text": [
      "10/10 - 0s - loss: 1.1324 - accuracy: 0.6433\n",
      "test_loss:1.1324288845062256\n",
      "test_accuracy : 0.6433333158493042\n"
     ]
    }
   ],
   "source": [
    "test_loss, test_accuracy = model.evaluate(x_test,y_test, verbose = 2)\n",
    "\n",
    "print('test_loss:{}'.format(test_loss))\n",
    "print('test_accuracy : {}'.format(test_accuracy))"
   ]
  },
  {
   "cell_type": "code",
   "execution_count": 4,
   "id": "ae75a500",
   "metadata": {},
   "outputs": [],
   "source": [
    "#------------------------------------------------------------------------------------"
   ]
  },
  {
   "cell_type": "markdown",
   "id": "cb9ded08",
   "metadata": {},
   "source": [
    "# 회고"
   ]
  },
  {
   "cell_type": "markdown",
   "id": "d4eaa3ff",
   "metadata": {
    "scrolled": true
   },
   "source": [
    "\n",
    "첫 익스플로레이션은 'RockScissorPaper'과 '인공지능'에 관해 다뤘습니다.\n",
    "\n",
    "우선 AI전문가가 되기 위한 첫 발자국으로 익숙하지 않은 것을 해본다는 것에서 재밌게 작업했습니다.\n",
    "하지만, 모르는 부분에 있어 단순히 복사-붙여넣기 일명 복붙이 아니라 최대한 배우려고\n",
    "노력했습니다.\n",
    "\n",
    "그러다 보니 5번은 다시 한 것같은데 결론적으로 64.3%정도로 정확도가 나왔습니다.\n",
    "처음 정확도가 24%정도 였고 34%, 46% 54%를 거쳐서 이룬 성과다 보니 꽤 만족했습니다.\n",
    "\n",
    "먼저, 24%의 정확도가 나왔던 이유는 데이터의 양이 너무나도 부족했기 때문이었습니다.\n",
    "연습용으로 300장, 테스트용으로 100장을 이용했습니다.\n",
    "이에 팀원들의 피드백을 듣고서 양을 늘리게 되었습니다.\n",
    "\n",
    "34%를 달성했을 때는 900장의 연습용과 300장의 테스트용을 활용했습니다.\n",
    "여전히 학습 데이터가 부족했다고 판단한여 한 번 더 진행했습니다.\n",
    "\n",
    "46%에는 호기심이 생겼습니다.\n",
    "그래서 연습용 데이터에 900장만 넣어보고 테스트용 데이터에는 4400장이나 넣어봤습니다.\n",
    "예상으로는 크게 차이가 없을 줄 알았지만, 실제로는 낮은 정확도를 띄었습니다.\n",
    "이때 8:2정도의 비율이 좋다는 것도 배울 수 있었고, 한 번 더 연습의 기회가 되었습니다.\n",
    "\n",
    "54%가 나왔을 때는 조금 지쳐있었기에 각각 2000장과 300장 정도를 이용해 진행했습니다.\n",
    "역시 60%의 정확도에 미치지 못했지만, 어떻게 보면 이것 또한 실험었다고 생각합니다.\n",
    "\n",
    "결국에는 64.3%가 나왔습니다.\n",
    "종합적으로 목표를 달성하는 과정에서 resize, 이미지 개수, colour, epoch 등에 관한 실수도 했습니다.\n",
    "다만, 흔히 사용하지만 저는 최근에야 들어본 '백문이 불여일타'라는 가치를 알았고, 실수로써 디테일을 배울 수 있었습니다.\n"
   ]
  }
 ],
 "metadata": {
  "kernelspec": {
   "display_name": "Python 3 (ipykernel)",
   "language": "python",
   "name": "python3"
  },
  "language_info": {
   "codemirror_mode": {
    "name": "ipython",
    "version": 3
   },
   "file_extension": ".py",
   "mimetype": "text/x-python",
   "name": "python",
   "nbconvert_exporter": "python",
   "pygments_lexer": "ipython3",
   "version": "3.9.7"
  }
 },
 "nbformat": 4,
 "nbformat_minor": 5
}
